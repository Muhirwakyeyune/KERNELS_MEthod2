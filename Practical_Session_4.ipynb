{
 "cells": [
  {
   "cell_type": "code",
   "execution_count": 1,
   "metadata": {},
   "outputs": [],
   "source": [
    "import numpy as np\n",
    "import matplotlib.pyplot as plt"
   ]
  },
  {
   "cell_type": "markdown",
   "metadata": {},
   "source": [
    "***\n",
    "## Part 1\n",
    "\n",
    "### Kernel function definition\n",
    "A function $k: \\mathcal{X} \\times \\mathcal{X} \\to \\mathbb{R}$ is a **positive definite (p.d.) kernel** if and only if\n",
    "\n",
    "$\\forall n$, $\\forall a \\in \\mathbb{R}^n$, $x_i \\in \\mathcal{X}$, \n",
    "$$\\sum_{i,j = 1}^{n} a_i a_j k(x_i, x_j) \\geq 0$$\n",
    "\n",
    "---\n",
    "\n",
    "In matrix notation, this condition is:\n",
    "\n",
    "$\\forall n$, $\\forall \\mathbf{a} \\in \\mathbb{R}^n$, $x_i \\in \\mathcal{X}$,\n",
    "$$\\mathbf{a}^\\top K \\mathbf{a} \\geq 0 $$\n",
    "where $K$ is the $(n, n)$ Gram matrix of $x$: $K_{i,j} = k(x_i, x_j)$\n",
    "\n",
    "---\n",
    "\n",
    "It is also equivalent to $K$ being **positive semi-definite** (symmetric and all its eigenvalues are $\\geq 0$ )"
   ]
  },
  {
   "cell_type": "markdown",
   "metadata": {},
   "source": [
    "### Exercise 1\n",
    "\n",
    "Let $k_1$ and $k_2$ be p.d. kernels.\n",
    "\n",
    "In each of the following cases, **show that $k$ is a p.d. kernel**\n",
    "\n",
    "**(a)** $k(x, y) = \\gamma k_1(x, y)$ with $\\gamma > 0$\n",
    "\n",
    "**(b)** $k = k_1 + k_2$\n",
    "\n",
    "**(c)** Let $f$ be a function $f: \\mathcal{X} \\to \\mathbb{R}$:\n",
    "$$k(x, y) = f(x)\\, k_1(x, y)\\, f(y)$$\n",
    "\n",
    " \n",
    "**(d)** Let $(k_m)$ be a series of p.d. kernels such that for every $x$, $y$, $\\left(k_m(x, y)\\right)_m$ converges. $$k(x, y) = \\lim_{m \\to +\\infty} k_m(x, y)$$\n",
    "\n",
    "**(e)** $k(x, y) = k_1(x, y) k_2(x, y)$ *This is accepted without proof*\n",
    "\n",
    "**Corollary of (e)** $k(x, y) = (k_1(x, y))^d $ is pd for all $d \\in \\mathbb{N}$\n",
    "\n",
    "**(f)** $k(x, y) = \\exp\\,\\left(k_1(x, y)\\right)$\n",
    "\n",
    "*Hint: Taylor series of $\\exp$*\n",
    "\n",
    "$$k = \\exp(k_1) = \\sum_{d=0}^{+\\infty} \\frac{k_1^d}{d!}$$\n",
    "\n",
    "\n",
    "**(g)** There exists $\\Phi: \\mathcal{X} \\to \\mathcal{X}'$ such that $$k(x, y) = \\Phi(x)^\\top \\Phi(y)$$\n",
    "\n",
    " *(In fact it is shown in the course that this condition is equivalent to $k$ being p.d.)*"
   ]
  },
  {
   "cell_type": "markdown",
   "metadata": {},
   "source": [
    "If you can express $k$ as a scalar product, then it is p.d."
   ]
  },
  {
   "cell_type": "markdown",
   "metadata": {},
   "source": [
    "### Exercise 2\n",
    "\n",
    "The Radial Basis Function (RBF) kernel with parameter $\\sigma$ is defined as follows:\n",
    "\n",
    "$$k_\\sigma(x, y) = \\exp \\left( -\\frac{\\|x-y\\|^2}{2 \\sigma^2}\\right)$$\n",
    "\n",
    "#### Part (a)\n",
    "Show that $k_\\sigma$ is a p.d. kernel.\n",
    "\n",
    "\n",
    "*Hint: Expand $\\|x-y\\|^2 = \\|x\\|^2 -2x^\\top y + \\|y\\|^2$ and use exercise 1*"
   ]
  },
  {
   "cell_type": "markdown",
   "metadata": {},
   "source": [
    "### Implementation\n",
    "\n",
    "Vector with vector:"
   ]
  },
  {
   "cell_type": "markdown",
   "metadata": {},
   "source": [
    "$$k_\\sigma(x, y) = \\exp \\left( -\\frac{\\|x-y\\|^2}{2 \\sigma^2}\\right)$$\n"
   ]
  },
  {
   "cell_type": "code",
   "execution_count": 2,
   "metadata": {},
   "outputs": [],
   "source": [
    "def rbf_kernel_element_wise(x, y, sigma=1):\n",
    "    '''\n",
    "    returns the RBF (Gaussian) kernel k(x, y)\n",
    "    \n",
    "    Input:\n",
    "    ------\n",
    "    x and y are p-dimensional vectors \n",
    "    '''\n",
    "    K = ...\n",
    "    return K"
   ]
  },
  {
   "cell_type": "markdown",
   "metadata": {},
   "source": [
    "Pairwise: return the matrix $\\left[k_\\sigma(X^1_i, X^2_j)\\right]_{i,j}$\n",
    "\n",
    "*Hint: expand $\\|x_1-x_2\\|^2$ again!*"
   ]
  },
  {
   "cell_type": "code",
   "execution_count": 3,
   "metadata": {},
   "outputs": [],
   "source": [
    "def rbf_kernel(X1, X2, sigma=10):\n",
    "    '''\n",
    "    Returns the kernel matrix K(X1_i, X2_j): size (n1, n2)\n",
    "    \n",
    "    Input:\n",
    "    ------\n",
    "    X1: an (n1, p) matrix\n",
    "    X2: an (n2, p) matrix\n",
    "    '''\n",
    "    # For loop with rbf_kernel_element works but is slow in python\n",
    "    # Use matrix operations!\n",
    "    K = ...\n",
    "    return K"
   ]
  },
  {
   "cell_type": "markdown",
   "metadata": {},
   "source": [
    "#### Test it:"
   ]
  },
  {
   "cell_type": "code",
   "execution_count": null,
   "metadata": {},
   "outputs": [],
   "source": [
    "p = 7\n",
    "X1 = np.random.normal(0,1,(10,p))\n",
    "X2 = np.zeros((5, p))\n",
    "\n",
    "rbf_kernel(X1, X2)"
   ]
  },
  {
   "cell_type": "code",
   "execution_count": 8,
   "metadata": {},
   "outputs": [],
   "source": [
    "# Simulate data\n",
    "np.random.seed(54321)\n",
    "p = 2\n",
    "\n",
    "def generate_Xy(n_samples, p=2, sigma=.2):\n",
    "    # Half of y is 1s, other half is -1\n",
    "    y = np.ones(n_samples)\n",
    "    mid = int(n_samples / 2)\n",
    "    y[mid:] *= -1\n",
    "    \n",
    "    X = np.random.normal(0, 10*sigma, (n_samples, p))\n",
    "    X += (1 - y[:, np.newaxis]) / 2 # add 1 when y = -1\n",
    "    # X of shape (n, p)\n",
    "    # y vector of length n\n",
    "    return X, y\n",
    "\n",
    "# Training data\n",
    "X_train, y_train = generate_Xy(20, sigma=1.)\n",
    "\n",
    "# Testing data\n",
    "X_test, y_test = generate_Xy(1000, sigma=10.)"
   ]
  },
  {
   "cell_type": "code",
   "execution_count": null,
   "metadata": {},
   "outputs": [],
   "source": [
    "# Visualize data\n",
    "def plot_data(X, y):\n",
    "    plt.figure(figsize=(8,7))\n",
    "    plt.scatter(X[:, 0], X[:, 1], c=y)\n",
    "    plt.xlabel('$x_1$')\n",
    "    plt.ylabel('$x_2$')\n",
    "    plt.show()\n",
    "    \n",
    "plot_data(X_test, y_test)"
   ]
  },
  {
   "cell_type": "markdown",
   "metadata": {},
   "source": [
    "### Choosing $\\sigma$\n",
    "A practical approach of choosing $\\sigma$ is called the \"median heuristic\":\n",
    "    $$ \\sigma \\approx \\mathrm{median} \\left\\{\\|x_i-x_j\\|:i,j=1,\\dots, n\\right\\} \\,.$$\n",
    "\n",
    "Implement this heuristic:"
   ]
  },
  {
   "cell_type": "code",
   "execution_count": 9,
   "metadata": {},
   "outputs": [
    {
     "name": "stdout",
     "output_type": "stream",
     "text": [
      "13.61720633790954\n"
     ]
    }
   ],
   "source": [
    "def sigma_from_median(X):\n",
    "    '''\n",
    "    Returns the median of ||Xi-Xj||\n",
    "    \n",
    "    Input\n",
    "    -----\n",
    "    X: (n, p) matrix\n",
    "    '''\n",
    "    euclidean_distances = ...\n",
    "    return np.median(euclidean_distances)\n",
    "\n",
    "print(sigma_from_median(X_train))"
   ]
  },
  {
   "cell_type": "markdown",
   "metadata": {},
   "source": [
    "Plot the matrix $K$ for different values of sigma"
   ]
  },
  {
   "cell_type": "code",
   "execution_count": 10,
   "metadata": {},
   "outputs": [
    {
     "data": {
      "text/plain": [
       "Text(0.5, 0, 'Median heuristic')"
      ]
     },
     "execution_count": 10,
     "metadata": {},
     "output_type": "execute_result"
    },
    {
     "data": {
      "image/png": "[encoded data removed]",
      "text/plain": [
       "<Figure size 432x288 with 3 Axes>"
      ]
     },
     "metadata": {
      "needs_background": "light"
     },
     "output_type": "display_data"
    }
   ],
   "source": [
    "from matplotlib import pyplot as plt\n",
    "from sklearn.metrics.pairwise import euclidean_distances\n",
    "%matplotlib inline\n",
    "\n",
    "# sigma very small, very large and median heuristic\n",
    "keyL = ['Very small sigma', 'Very large sigma', 'Median heuristic']\n",
    "sigL = [1e-6, 1e8, sigma_from_median(X_train)]\n",
    "KL = [rbf_kernel(X_train, X_train, sigma=sig) for sig in sigL]\n",
    "\n",
    "# Plot\n",
    "fig, (ax0, ax1, ax2) = plt.subplots(1,3)\n",
    "ax0.matshow(KL[0])\n",
    "ax0.set_xlabel(keyL[0])\n",
    "ax1.matshow(KL[1])\n",
    "ax1.set_xlabel(keyL[1])\n",
    "ax2.matshow(KL[2])\n",
    "ax2.set_xlabel(keyL[2])"
   ]
  },
  {
   "cell_type": "markdown",
   "metadata": {},
   "source": [
    "Plot above: kernel matrix K.\n",
    "\n",
    "Diagonal elements are $k(x_i, x_i) = 1$\n",
    "    \n",
    "  - for very small sigma, $k(x_i, x_j) = 0$ if $i \\neq j$\n",
    "  - for very large sigma, $k(x_i, x_j) = 1$ for all $i$ $j$\n",
    "  \n",
    "  \n",
    "If $\\sigma$ is too small or too large, the kernel matrix $K$ is uninformative"
   ]
  },
  {
   "cell_type": "markdown",
   "metadata": {},
   "source": [
    "### Kernel Ridge Regression\n",
    "\n",
    "Reminder: for regular ridge regression, the prediction rule is \n",
    "$$\\hat{y}(X_t) = X_t \\beta \\, \\,\\,\\, \\text{ with } \\beta = X^\\top(XX^\\top + \\lambda n I)^{-1} y $$\n",
    "\n",
    "Rewriting the prediction rule:\n",
    "$$\\hat{y}(X_t) = X_t X^\\top(XX^\\top + \\lambda n I)^{-1} y$$\n",
    "\n",
    "We now use the kernel trick to replace the pairwise dot products $XX^\\top$ by a kernel matrix:\n",
    "$$\\color{green}{\\hat{y}(X_t) = K_{X_t, X} (K_{X, X} + \\lambda n I)^{-1} y}$$"
   ]
  },
  {
   "cell_type": "markdown",
   "metadata": {},
   "source": [
    "**Goal**: Complete the `KernelRidge` class"
   ]
  },
  {
   "cell_type": "code",
   "execution_count": 11,
   "metadata": {},
   "outputs": [],
   "source": [
    "class KernelRidge():\n",
    "    '''\n",
    "    Kernel Ridge Regression\n",
    "    \n",
    "    Methods\n",
    "    ----\n",
    "    fit\n",
    "    predict\n",
    "    '''\n",
    "    def __init__(self, sigma=None, lambd=0.1):\n",
    "        self.kernel = rbf_kernel\n",
    "        self.sigma = sigma\n",
    "        self.lambd = lambd\n",
    "\n",
    "    def fit(self, X, y):\n",
    "        n, p = X.shape\n",
    "        assert (n == len(y))\n",
    "    \n",
    "        self.X_train = X\n",
    "        \n",
    "        # Compute default sigma from data\n",
    "        if self.sigma is None:\n",
    "            self.sigma = sigma_from_median(X)\n",
    "        \n",
    "        A = ...\n",
    "        \n",
    "        ## self.alpha = (K + n lambda I)^-1 y\n",
    "        # Solution to A x = y\n",
    "        self.alpha = np.linalg.solve(A , y)\n",
    "\n",
    "        return self\n",
    "        \n",
    "    def predict(self, X):\n",
    "        # Prediction rule: \n",
    "        K_x = self.kernel(X, self.X_train, sigma=self.sigma)\n",
    "        return ..."
   ]
  },
  {
   "cell_type": "code",
   "execution_count": 12,
   "metadata": {
    "scrolled": true
   },
   "outputs": [
    {
     "name": "stdout",
     "output_type": "stream",
     "text": [
      "(1000,)\n"
     ]
    }
   ],
   "source": [
    "model = KernelRidge(lambd=0.1, sigma=None)\n",
    "y_pred = model.fit(X_train, y_train).predict(X_test)\n",
    "print(y_pred.shape)"
   ]
  },
  {
   "cell_type": "code",
   "execution_count": 26,
   "metadata": {},
   "outputs": [],
   "source": [
    "def linear_kernel(X1, X2, **kwargs):\n",
    "    return X1.dot(X2.T)"
   ]
  },
  {
   "cell_type": "markdown",
   "metadata": {},
   "source": [
    "#### Reproduce the figures from slide 135"
   ]
  },
  {
   "cell_type": "code",
   "execution_count": 13,
   "metadata": {},
   "outputs": [],
   "source": [
    "x_train = np.linspace(0, 10, 40)\n",
    "y_train = np.sin(x_train) + 0.5 * np.random.randn(len(x_train))\n",
    "\n",
    "x_test = np.linspace(0, 10, 200)"
   ]
  }
 ],
 "metadata": {
  "kernelspec": {
   "display_name": "Python 3",
   "language": "python",
   "name": "python3"
  },
  "language_info": {
   "codemirror_mode": {
    "name": "ipython",
    "version": 3
   },
   "file_extension": ".py",
   "mimetype": "text/x-python",
   "name": "python",
   "nbconvert_exporter": "python",
   "pygments_lexer": "ipython3",
   "version": "3.9.16"
  }
 },
 "nbformat": 4,
 "nbformat_minor": 2
}
